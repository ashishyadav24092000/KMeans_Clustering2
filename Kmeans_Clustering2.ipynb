{
 "cells": [
  {
   "cell_type": "markdown",
   "id": "fa724d41",
   "metadata": {},
   "source": [
    "# Unsupervised Learning :: Example 2- K-means clustering"
   ]
  },
  {
   "cell_type": "markdown",
   "id": "4b594374",
   "metadata": {},
   "source": [
    "## In this Example we have to form three clusters for the given dataset."
   ]
  },
  {
   "cell_type": "code",
   "execution_count": 2,
   "id": "3e88cc17",
   "metadata": {},
   "outputs": [],
   "source": [
    "## importing required libraries\n",
    "import pandas as pd\n",
    "import numpy as np\n",
    "import matplotlib.pyplot as plt"
   ]
  },
  {
   "cell_type": "code",
   "execution_count": 4,
   "id": "f2fc5462",
   "metadata": {},
   "outputs": [
    {
     "data": {
      "text/html": [
       "<div>\n",
       "<style scoped>\n",
       "    .dataframe tbody tr th:only-of-type {\n",
       "        vertical-align: middle;\n",
       "    }\n",
       "\n",
       "    .dataframe tbody tr th {\n",
       "        vertical-align: top;\n",
       "    }\n",
       "\n",
       "    .dataframe thead th {\n",
       "        text-align: right;\n",
       "    }\n",
       "</style>\n",
       "<table border=\"1\" class=\"dataframe\">\n",
       "  <thead>\n",
       "    <tr style=\"text-align: right;\">\n",
       "      <th></th>\n",
       "      <th>x</th>\n",
       "      <th>y</th>\n",
       "    </tr>\n",
       "  </thead>\n",
       "  <tbody>\n",
       "    <tr>\n",
       "      <th>0</th>\n",
       "      <td>2</td>\n",
       "      <td>10</td>\n",
       "    </tr>\n",
       "    <tr>\n",
       "      <th>1</th>\n",
       "      <td>2</td>\n",
       "      <td>5</td>\n",
       "    </tr>\n",
       "    <tr>\n",
       "      <th>2</th>\n",
       "      <td>8</td>\n",
       "      <td>4</td>\n",
       "    </tr>\n",
       "    <tr>\n",
       "      <th>3</th>\n",
       "      <td>5</td>\n",
       "      <td>8</td>\n",
       "    </tr>\n",
       "    <tr>\n",
       "      <th>4</th>\n",
       "      <td>7</td>\n",
       "      <td>5</td>\n",
       "    </tr>\n",
       "    <tr>\n",
       "      <th>5</th>\n",
       "      <td>6</td>\n",
       "      <td>4</td>\n",
       "    </tr>\n",
       "    <tr>\n",
       "      <th>6</th>\n",
       "      <td>1</td>\n",
       "      <td>2</td>\n",
       "    </tr>\n",
       "    <tr>\n",
       "      <th>7</th>\n",
       "      <td>4</td>\n",
       "      <td>9</td>\n",
       "    </tr>\n",
       "  </tbody>\n",
       "</table>\n",
       "</div>"
      ],
      "text/plain": [
       "   x   y\n",
       "0  2  10\n",
       "1  2   5\n",
       "2  8   4\n",
       "3  5   8\n",
       "4  7   5\n",
       "5  6   4\n",
       "6  1   2\n",
       "7  4   9"
      ]
     },
     "execution_count": 4,
     "metadata": {},
     "output_type": "execute_result"
    }
   ],
   "source": [
    "## fetching the data using pandas\n",
    "data = pd.read_excel('/home/ashish/projects/UnsupervisedLearning2_KMeansClustering/datapoints.xlsx')\n",
    "data"
   ]
  },
  {
   "cell_type": "code",
   "execution_count": 8,
   "id": "79d3c5e5",
   "metadata": {},
   "outputs": [
    {
     "data": {
      "text/plain": [
       "<Figure size 360x360 with 0 Axes>"
      ]
     },
     "metadata": {},
     "output_type": "display_data"
    },
    {
     "data": {
      "image/png": "[encoded data removed]",
      "text/plain": [
       "<Figure size 432x288 with 1 Axes>"
      ]
     },
     "metadata": {
      "needs_background": "light"
     },
     "output_type": "display_data"
    }
   ],
   "source": [
    "fig = plt.figure(figsize=(5,5))\n",
    "x = data['x']\n",
    "y = data['y']\n",
    "\n",
    "n = range(1,9)   ## since we have 8 data points\n",
    "fig,ax = plt.subplots()\n",
    "ax.scatter(x,y,color='red')\n",
    "plt.grid()    ## method to show the grid lines in the background of scatter-plot\n",
    "plt.xlabel(\"----x--------\")\n",
    "plt.ylabel(\"-----y--------\")\n",
    "for i,text in enumerate(n):\n",
    "    ax.annotate(text,(x[i],y[i]))\n",
    "plt.show()"
   ]
  },
  {
   "cell_type": "code",
   "execution_count": 12,
   "id": "f5516aeb",
   "metadata": {},
   "outputs": [
    {
     "data": {
      "text/plain": [
       "KMeans(n_clusters=3)"
      ]
     },
     "execution_count": 12,
     "metadata": {},
     "output_type": "execute_result"
    }
   ],
   "source": [
    "## importing libraries for k-means clustering\n",
    "from sklearn.cluster import KMeans\n",
    "\n",
    "kmeans = KMeans(n_clusters =3)\n",
    "kmeans.fit(data)"
   ]
  },
  {
   "cell_type": "code",
   "execution_count": 17,
   "id": "488bb02c",
   "metadata": {},
   "outputs": [
    {
     "data": {
      "text/plain": [
       "array([1, 0, 2, 1, 2, 2, 0, 1], dtype=int32)"
      ]
     },
     "execution_count": 17,
     "metadata": {},
     "output_type": "execute_result"
    }
   ],
   "source": [
    "## this provide the labels for all the three cluster elements\n",
    "labels = kmeans.predict(data)\n",
    "labels"
   ]
  },
  {
   "cell_type": "markdown",
   "id": "bdc2a190",
   "metadata": {},
   "source": [
    "## So, in above output screen we got the three labels for three clusters :: \n",
    "    1. The second element from starting and the second last element belongs to FIRST cluster -- labelled as '0'.\n",
    "    2. first,fourth and last element belongs to SECOND cluster -- labelled as '1'.\n",
    "    3. third,fifth,sixth element belongs to THIRD cluster -- labelled as '2'"
   ]
  },
  {
   "cell_type": "code",
   "execution_count": 18,
   "id": "d6ad3a5d",
   "metadata": {},
   "outputs": [
    {
     "data": {
      "text/plain": [
       "array([[1.5       , 3.5       ],\n",
       "       [3.66666667, 9.        ],\n",
       "       [7.        , 4.33333333]])"
      ]
     },
     "execution_count": 18,
     "metadata": {},
     "output_type": "execute_result"
    }
   ],
   "source": [
    "centroids = kmeans.cluster_centers_\n",
    "centroids"
   ]
  },
  {
   "cell_type": "markdown",
   "id": "f29899c8",
   "metadata": {},
   "source": [
    "# From the above output we can see::\n",
    "\n",
    "    1. FIRST Cluster centroid --> [1.5, 3.5]\n",
    "    2. SECOND Cluster centroid -->  [3.66666667, 9.0]\n",
    "    3. THIRD Cluster centroid --> [7., 4.33333333]"
   ]
  },
  {
   "cell_type": "code",
   "execution_count": 23,
   "id": "056cdcee",
   "metadata": {},
   "outputs": [
    {
     "data": {
      "text/plain": [
       "<Figure size 360x360 with 0 Axes>"
      ]
     },
     "metadata": {},
     "output_type": "display_data"
    },
    {
     "data": {
      "image/png": "[encoded data removed]",
      "text/plain": [
       "<Figure size 432x288 with 1 Axes>"
      ]
     },
     "metadata": {
      "needs_background": "light"
     },
     "output_type": "display_data"
    }
   ],
   "source": [
    "fig = plt.figure(figsize=(5,5))\n",
    "color_map = {0:'r',1:'g',2:'b'}\n",
    "colors = list(map(lambda x : color_map[x],labels))   ## colors = ['g', 'r', 'b', 'g', 'b', 'b', 'r', 'g'] \n",
    "fig,ax = plt.subplots()\n",
    "ax.scatter(x,y,color=colors,alpha=0.5,edgecolors='k')  ## The alpha is blending value, between 0 (transparent) and 1 (opaque).\n",
    "\n",
    "for index,centroid in enumerate(centroids):\n",
    "    plt.scatter(*centroid,color=color_map[index])\n",
    "\n",
    "n = range(1,9)\n",
    "## giving respective number/index to each datapoint\n",
    "for i,text in enumerate(n):\n",
    "    ax.annotate(text,(x[i],y[i]))\n",
    "plt.grid()\n",
    "plt.xlim(0,11)\n",
    "plt.ylim(0,11)\n",
    "plt.xlabel(\"----x--------\")\n",
    "plt.ylabel(\"-----y--------\")\n",
    "plt.show()"
   ]
  },
  {
   "cell_type": "markdown",
   "id": "f07675ff",
   "metadata": {},
   "source": [
    "## So finally we got our all three clusters which we were asked to identify. Now further analysis and modelling can be done on the data easily."
   ]
  }
 ],
 "metadata": {
  "kernelspec": {
   "display_name": "Python 3",
   "language": "python",
   "name": "python3"
  },
  "language_info": {
   "codemirror_mode": {
    "name": "ipython",
    "version": 3
   },
   "file_extension": ".py",
   "mimetype": "text/x-python",
   "name": "python",
   "nbconvert_exporter": "python",
   "pygments_lexer": "ipython3",
   "version": "3.8.8"
  }
 },
 "nbformat": 4,
 "nbformat_minor": 5
}
